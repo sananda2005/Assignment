{
  "nbformat": 4,
  "nbformat_minor": 0,
  "metadata": {
    "colab": {
      "provenance": []
    },
    "kernelspec": {
      "name": "python3",
      "display_name": "Python 3"
    },
    "language_info": {
      "name": "python"
    }
  },
  "cells": [
    {
      "cell_type": "markdown",
      "source": [
        "1. Given an array, check if it contains any duplicates or not.\n",
        "\n",
        "arr = [1, 2, 4, 2, 5, 9]\n",
        "\n",
        "Output = True"
      ],
      "metadata": {
        "id": "zkPOX9cp3-TL"
      }
    },
    {
      "cell_type": "code",
      "source": [
        "arr = [1, 2, 4, 2, 5, 9]\n",
        "if len(arr) > len(set(arr)):\n",
        "  print(\"TRUE\")\n",
        "else:\n",
        "  print(\"FALSE\")"
      ],
      "metadata": {
        "colab": {
          "base_uri": "https://localhost:8080/"
        },
        "id": "Hqu_tayUNA-B",
        "outputId": "955e6366-577a-48ed-8e7c-7ba0aa0f32ce"
      },
      "execution_count": 3,
      "outputs": [
        {
          "output_type": "stream",
          "name": "stdout",
          "text": [
            "TRUE\n"
          ]
        }
      ]
    },
    {
      "cell_type": "markdown",
      "source": [
        "2. Given an array and an integer k, rotate the array to the right by k steps.\n",
        "\n",
        "arr = [1, 2, 3, 4, 5, 6, 7] k = 3\n",
        "\n",
        "Output = [5, 6, 7, 1, 2, 3, 4]"
      ],
      "metadata": {
        "id": "iQTfzY00NxRr"
      }
    },
    {
      "cell_type": "code",
      "source": [
        "arr = [1, 2, 3, 4, 5, 6, 7]\n",
        "arr1 = [0]*len(arr)\n",
        "k = 3\n",
        "\n",
        "for i in range(len(arr)):\n",
        "    new_index = (i + k) % len(arr)\n",
        "    arr1[new_index] = arr[i]\n",
        "\n",
        "print(arr1)"
      ],
      "metadata": {
        "colab": {
          "base_uri": "https://localhost:8080/"
        },
        "id": "GIbijkxpXj7x",
        "outputId": "6f868a49-e26d-43b3-be39-c84aadf97627"
      },
      "execution_count": 4,
      "outputs": [
        {
          "output_type": "stream",
          "name": "stdout",
          "text": [
            "[5, 6, 7, 1, 2, 3, 4]\n"
          ]
        }
      ]
    },
    {
      "cell_type": "markdown",
      "source": [
        "3. Reverse the given array in-place, means without using any extra data structure.\n",
        "\n",
        "arr = [2, 4, 5, 7, 9, 12]\n",
        "\n",
        "Output = [12, 9, 7, 5, 4, 2]"
      ],
      "metadata": {
        "id": "kd5R3ZebnBo3"
      }
    },
    {
      "cell_type": "code",
      "source": [
        "arr = [2, 4, 5, 7, 9, 12]\n",
        "arr.reverse()\n",
        "print(arr)"
      ],
      "metadata": {
        "colab": {
          "base_uri": "https://localhost:8080/"
        },
        "id": "dA3yif9NnIHV",
        "outputId": "b7a1d484-a7a8-4b17-e688-962946f03c8e"
      },
      "execution_count": 5,
      "outputs": [
        {
          "output_type": "stream",
          "name": "stdout",
          "text": [
            "[12, 9, 7, 5, 4, 2]\n"
          ]
        }
      ]
    },
    {
      "cell_type": "markdown",
      "source": [
        "4. Given an array of integers, find the maximum element in an array\n",
        "\n",
        " arr = [10, 5, 20, 8, 15]\n",
        "\n",
        " Output = 20"
      ],
      "metadata": {
        "id": "s8Bf_75qnsKk"
      }
    },
    {
      "cell_type": "code",
      "source": [
        "arr = [10, 5, 20, 8, 15]\n",
        "max_e = arr[0]\n",
        "for num in arr[1:]:\n",
        "  if num > max_e:\n",
        "    max_e = num\n",
        "print(\"The maximum element in the array is:\",max_e)"
      ],
      "metadata": {
        "id": "WGDeptqEn0xn",
        "colab": {
          "base_uri": "https://localhost:8080/"
        },
        "outputId": "b8f179e1-2117-4f5e-d54b-688099a06672"
      },
      "execution_count": 6,
      "outputs": [
        {
          "output_type": "stream",
          "name": "stdout",
          "text": [
            "The maximum element in the array is: 20\n"
          ]
        }
      ]
    },
    {
      "cell_type": "markdown",
      "source": [
        "5. Given a sorted array, remove the duplicate element without using any extra data structure.\n",
        "\n",
        "arr = [1, 1, 2, 2, 2, 3, 3, 4, 4, 4, 5, 5]\n",
        "\n",
        "Output = [1, 2, 3, 4, 5"
      ],
      "metadata": {
        "id": "akSiOqCEoLjD"
      }
    },
    {
      "cell_type": "code",
      "source": [
        "arr = [1, 1, 2, 2, 2, 3, 3, 4, 4, 4, 5, 5]\n",
        "sorted_arr = sorted(arr)\n",
        "elem = []\n",
        "for num in sorted_arr:\n",
        "  if not elem or num != elem[-1]:\n",
        "    elem.append(num)\n",
        "\n",
        "print(elem)"
      ],
      "metadata": {
        "id": "0uoqxKeaoQmb",
        "colab": {
          "base_uri": "https://localhost:8080/"
        },
        "outputId": "e113d15c-e0d0-45a7-c6e7-04339edd538c"
      },
      "execution_count": 8,
      "outputs": [
        {
          "output_type": "stream",
          "name": "stdout",
          "text": [
            "[1, 2, 3, 4, 5]\n"
          ]
        }
      ]
    }
  ]
}